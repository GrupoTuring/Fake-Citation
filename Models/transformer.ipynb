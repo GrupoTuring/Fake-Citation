{
 "cells": [
  {
   "cell_type": "markdown",
   "metadata": {
    "colab_type": "text",
    "id": "view-in-github"
   },
   "source": [
    "<a href=\"https://colab.research.google.com/github/GrupoTuring/Fake-Citation/blob/main/fake_citations_badmodel.ipynb\" target=\"_parent\"><img src=\"https://colab.research.google.com/assets/colab-badge.svg\" alt=\"Open In Colab\"/></a>"
   ]
  },
  {
   "cell_type": "code",
   "execution_count": null,
   "metadata": {
    "id": "voMeRmSBs8MC"
   },
   "outputs": [],
   "source": [
    "!pip install transformers"
   ]
  },
  {
   "cell_type": "code",
   "execution_count": null,
   "metadata": {
    "id": "klOjswgAuFJt"
   },
   "outputs": [],
   "source": [
    "import pandas as pd\n",
    "import numpy as np\n",
    "import matplotlib.pyplot as plt\n",
    "from transformers import AutoTokenizer, AutoModel\n",
    "import torch\n",
    "import nltk\n",
    "from nltk import word_tokenize\n",
    "from sklearn import svm\n",
    "from sklearn import preprocessing\n",
    "from sklearn.metrics import classification_report\n",
    "from sklearn.model_selection import train_test_split\n",
    "\n",
    "\n",
    "nltk.download('punkt')"
   ]
  },
  {
   "cell_type": "code",
   "execution_count": 3,
   "metadata": {
    "colab": {
     "base_uri": "https://localhost:8080/",
     "height": 217
    },
    "id": "4rRjzZTwu1Vn",
    "outputId": "7170ac82-4787-465f-d67c-dca87aac50d6"
   },
   "outputs": [
    {
     "name": "stdout",
     "output_type": "stream",
     "text": [
      "Número de linhas  1336\n"
     ]
    },
    {
     "data": {
      "text/html": [
       "<div>\n",
       "<style scoped>\n",
       "    .dataframe tbody tr th:only-of-type {\n",
       "        vertical-align: middle;\n",
       "    }\n",
       "\n",
       "    .dataframe tbody tr th {\n",
       "        vertical-align: top;\n",
       "    }\n",
       "\n",
       "    .dataframe thead th {\n",
       "        text-align: right;\n",
       "    }\n",
       "</style>\n",
       "<table border=\"1\" class=\"dataframe\">\n",
       "  <thead>\n",
       "    <tr style=\"text-align: right;\">\n",
       "      <th></th>\n",
       "      <th>citation</th>\n",
       "      <th>category</th>\n",
       "    </tr>\n",
       "  </thead>\n",
       "  <tbody>\n",
       "    <tr>\n",
       "      <th>1</th>\n",
       "      <td>Não se justifica um bilionário aporte financei...</td>\n",
       "      <td>CONTRADITÓRIO</td>\n",
       "    </tr>\n",
       "    <tr>\n",
       "      <th>2</th>\n",
       "      <td>A questão de vacinação ou não é uma lei de 75 ...</td>\n",
       "      <td>EXAGERADO</td>\n",
       "    </tr>\n",
       "    <tr>\n",
       "      <th>3</th>\n",
       "      <td>Inclusive tem um vídeo, do senhor João Doria, ...</td>\n",
       "      <td>VERDADEIRO</td>\n",
       "    </tr>\n",
       "    <tr>\n",
       "      <th>4</th>\n",
       "      <td>Hoje em dia pelo menos metade da população diz...</td>\n",
       "      <td>VERDADEIRO</td>\n",
       "    </tr>\n",
       "    <tr>\n",
       "      <th>13</th>\n",
       "      <td>As crianças ficaram quatro meses sem receber o...</td>\n",
       "      <td>IMPRECISO</td>\n",
       "    </tr>\n",
       "  </tbody>\n",
       "</table>\n",
       "</div>"
      ],
      "text/plain": [
       "                                             citation       category\n",
       "1   Não se justifica um bilionário aporte financei...  CONTRADITÓRIO\n",
       "2   A questão de vacinação ou não é uma lei de 75 ...      EXAGERADO\n",
       "3   Inclusive tem um vídeo, do senhor João Doria, ...     VERDADEIRO\n",
       "4   Hoje em dia pelo menos metade da população diz...     VERDADEIRO\n",
       "13  As crianças ficaram quatro meses sem receber o...      IMPRECISO"
      ]
     },
     "execution_count": 3,
     "metadata": {
      "tags": []
     },
     "output_type": "execute_result"
    }
   ],
   "source": [
    "dataset = pd.read_csv(\"/content/fakequote.csv\", na_values=['\\r\\n', ' '])\n",
    "dataset.drop(columns=['title', 'url'], inplace=True)\n",
    "dataset.dropna(inplace=True)\n",
    "print(\"Número de linhas \", dataset.shape[0])\n",
    "dataset.head()"
   ]
  },
  {
   "cell_type": "code",
   "execution_count": 4,
   "metadata": {
    "id": "3183xap53GIC"
   },
   "outputs": [],
   "source": [
    "tokenizer = AutoTokenizer.from_pretrained('neuralmind/bert-base-portuguese-cased', do_lower_case=False)\n",
    "model = AutoModel.from_pretrained('neuralmind/bert-base-portuguese-cased')\n",
    "\n",
    "def get_embs_bertinbau(frase):\n",
    "    input_ids = tokenizer.encode(frase, return_tensors='pt')\n",
    "    with torch.no_grad():\n",
    "        outs = model(input_ids)\n",
    "        encoded = outs[0][0, 1:-1] \n",
    "    return encoded\n",
    "\n",
    "def get_sentence_embs(frase):\n",
    "    frase_embs = get_embs_bertinbau(frase.lower()).numpy()\n",
    "    frase_embs_considerados = []\n",
    "    palavras = word_tokenize(frase.lower())\n",
    "    for palavra, embedding in zip(palavras, frase_embs):\n",
    "            frase_embs_considerados.append(embedding)\n",
    "    frase_embs_considerados = np.array(frase_embs_considerados)\n",
    "    final = np.mean(frase_embs_considerados, axis=0)\n",
    "    return final\n",
    "\n",
    "dataset['feature'] = dataset['citation'].apply(get_sentence_embs)"
   ]
  },
  {
   "cell_type": "code",
   "execution_count": 5,
   "metadata": {
    "id": "Z3hkz9xK5jIK"
   },
   "outputs": [],
   "source": [
    "dataset.to_csv(\"processado.csv\")"
   ]
  },
  {
   "cell_type": "code",
   "execution_count": 6,
   "metadata": {
    "id": "F0VGvxeY87bT"
   },
   "outputs": [],
   "source": [
    "dataset.dropna(inplace=True)"
   ]
  },
  {
   "cell_type": "code",
   "execution_count": 7,
   "metadata": {
    "colab": {
     "base_uri": "https://localhost:8080/",
     "height": 200
    },
    "id": "_OICNnK_9mB-",
    "outputId": "eac61d17-b979-44b6-b252-8628849fea10"
   },
   "outputs": [
    {
     "data": {
      "text/html": [
       "<div>\n",
       "<style scoped>\n",
       "    .dataframe tbody tr th:only-of-type {\n",
       "        vertical-align: middle;\n",
       "    }\n",
       "\n",
       "    .dataframe tbody tr th {\n",
       "        vertical-align: top;\n",
       "    }\n",
       "\n",
       "    .dataframe thead th {\n",
       "        text-align: right;\n",
       "    }\n",
       "</style>\n",
       "<table border=\"1\" class=\"dataframe\">\n",
       "  <thead>\n",
       "    <tr style=\"text-align: right;\">\n",
       "      <th></th>\n",
       "      <th>citation</th>\n",
       "      <th>category</th>\n",
       "      <th>feature</th>\n",
       "    </tr>\n",
       "  </thead>\n",
       "  <tbody>\n",
       "    <tr>\n",
       "      <th>1</th>\n",
       "      <td>Não se justifica um bilionário aporte financei...</td>\n",
       "      <td>CONTRADITÓRIO</td>\n",
       "      <td>[0.31005707, -0.1157816, 0.1631995, -0.0117724...</td>\n",
       "    </tr>\n",
       "    <tr>\n",
       "      <th>2</th>\n",
       "      <td>A questão de vacinação ou não é uma lei de 75 ...</td>\n",
       "      <td>EXAGERADO</td>\n",
       "      <td>[0.014645368, -0.014333419, 0.41869062, 0.2214...</td>\n",
       "    </tr>\n",
       "    <tr>\n",
       "      <th>3</th>\n",
       "      <td>Inclusive tem um vídeo, do senhor João Doria, ...</td>\n",
       "      <td>VERDADEIRO</td>\n",
       "      <td>[0.026814118, -0.30709812, 0.4208232, 0.252973...</td>\n",
       "    </tr>\n",
       "    <tr>\n",
       "      <th>4</th>\n",
       "      <td>Hoje em dia pelo menos metade da população diz...</td>\n",
       "      <td>VERDADEIRO</td>\n",
       "      <td>[-0.056797102, -0.19582988, 0.36105445, -0.084...</td>\n",
       "    </tr>\n",
       "    <tr>\n",
       "      <th>13</th>\n",
       "      <td>As crianças ficaram quatro meses sem receber o...</td>\n",
       "      <td>IMPRECISO</td>\n",
       "      <td>[-0.14927018, -0.0529135, 0.5366471, -0.187571...</td>\n",
       "    </tr>\n",
       "  </tbody>\n",
       "</table>\n",
       "</div>"
      ],
      "text/plain": [
       "                                             citation  ...                                            feature\n",
       "1   Não se justifica um bilionário aporte financei...  ...  [0.31005707, -0.1157816, 0.1631995, -0.0117724...\n",
       "2   A questão de vacinação ou não é uma lei de 75 ...  ...  [0.014645368, -0.014333419, 0.41869062, 0.2214...\n",
       "3   Inclusive tem um vídeo, do senhor João Doria, ...  ...  [0.026814118, -0.30709812, 0.4208232, 0.252973...\n",
       "4   Hoje em dia pelo menos metade da população diz...  ...  [-0.056797102, -0.19582988, 0.36105445, -0.084...\n",
       "13  As crianças ficaram quatro meses sem receber o...  ...  [-0.14927018, -0.0529135, 0.5366471, -0.187571...\n",
       "\n",
       "[5 rows x 3 columns]"
      ]
     },
     "execution_count": 7,
     "metadata": {
      "tags": []
     },
     "output_type": "execute_result"
    }
   ],
   "source": [
    "dataset.head()"
   ]
  },
  {
   "cell_type": "code",
   "execution_count": 8,
   "metadata": {
    "colab": {
     "base_uri": "https://localhost:8080/"
    },
    "id": "eSF-sKQW-fyF",
    "outputId": "24b9fc41-868c-49aa-dd59-34f387113f2a"
   },
   "outputs": [
    {
     "data": {
      "text/plain": [
       "(1336, 3)"
      ]
     },
     "execution_count": 8,
     "metadata": {
      "tags": []
     },
     "output_type": "execute_result"
    }
   ],
   "source": [
    "dataset.shape"
   ]
  },
  {
   "cell_type": "code",
   "execution_count": 9,
   "metadata": {
    "colab": {
     "base_uri": "https://localhost:8080/"
    },
    "id": "vBVKms-9LEmB",
    "outputId": "1cf0a72a-692e-4a08-da39-2af10d427e8d"
   },
   "outputs": [
    {
     "data": {
      "text/plain": [
       "VERDADEIRO       464\n",
       "IMPRECISO        286\n",
       "FALSO            268\n",
       "EXAGERADO        169\n",
       "INSUSTENTÁVEL     96\n",
       "CONTRADITÓRIO     53\n",
       "Name: category, dtype: int64"
      ]
     },
     "execution_count": 9,
     "metadata": {
      "tags": []
     },
     "output_type": "execute_result"
    }
   ],
   "source": [
    "dataset['category'].value_counts()"
   ]
  },
  {
   "cell_type": "code",
   "execution_count": 10,
   "metadata": {
    "id": "yjyu5Roe6RXA"
   },
   "outputs": [],
   "source": [
    "le = preprocessing.LabelEncoder()"
   ]
  },
  {
   "cell_type": "code",
   "execution_count": 11,
   "metadata": {
    "id": "umiS_mCO5pBr"
   },
   "outputs": [],
   "source": [
    "X = dataset['feature']\n",
    "X = [list(a) for a in X]\n",
    "y = le.fit(dataset['category']).transform(dataset['category'])"
   ]
  },
  {
   "cell_type": "code",
   "execution_count": 12,
   "metadata": {
    "colab": {
     "base_uri": "https://localhost:8080/"
    },
    "id": "0isxd9je64um",
    "outputId": "29c45046-9bfc-45af-ef7e-e1bf34d09e7f"
   },
   "outputs": [
    {
     "data": {
      "text/plain": [
       "array(['CONTRADITÓRIO', 'EXAGERADO', 'FALSO', 'IMPRECISO',\n",
       "       'INSUSTENTÁVEL', 'VERDADEIRO'], dtype=object)"
      ]
     },
     "execution_count": 12,
     "metadata": {
      "tags": []
     },
     "output_type": "execute_result"
    }
   ],
   "source": [
    "le.classes_"
   ]
  },
  {
   "cell_type": "code",
   "execution_count": 13,
   "metadata": {
    "id": "lIeVq2n_6rp3"
   },
   "outputs": [],
   "source": [
    "X_train, X_test, y_train, y_test = train_test_split(X, y, test_size=0.2, random_state=42)"
   ]
  },
  {
   "cell_type": "code",
   "execution_count": 14,
   "metadata": {
    "id": "1_atEY3E6_Tx"
   },
   "outputs": [],
   "source": [
    "sv = svm.SVC()\n",
    "sv.fit(X_train, y_train)\n",
    "y_pred = sv.predict(X_test)"
   ]
  },
  {
   "cell_type": "code",
   "execution_count": 15,
   "metadata": {
    "colab": {
     "base_uri": "https://localhost:8080/"
    },
    "id": "35VlCuro7wn5",
    "outputId": "a0a0eda5-2484-450a-b5d6-b9c79bf4f420"
   },
   "outputs": [
    {
     "name": "stdout",
     "output_type": "stream",
     "text": [
      "               precision    recall  f1-score   support\n",
      "\n",
      "CONTRADITÓRIO       0.00      0.00      0.00        11\n",
      "    EXAGERADO       0.00      0.00      0.00        31\n",
      "        FALSO       0.27      0.21      0.23        53\n",
      "    IMPRECISO       0.41      0.11      0.17        66\n",
      "INSUSTENTÁVEL       0.00      0.00      0.00        24\n",
      "   VERDADEIRO       0.35      0.88      0.50        83\n",
      "\n",
      "     accuracy                           0.34       268\n",
      "    macro avg       0.17      0.20      0.15       268\n",
      " weighted avg       0.26      0.34      0.24       268\n",
      "\n"
     ]
    },
    {
     "name": "stderr",
     "output_type": "stream",
     "text": [
      "/usr/local/lib/python3.7/dist-packages/sklearn/metrics/_classification.py:1272: UndefinedMetricWarning: Precision and F-score are ill-defined and being set to 0.0 in labels with no predicted samples. Use `zero_division` parameter to control this behavior.\n",
      "  _warn_prf(average, modifier, msg_start, len(result))\n"
     ]
    }
   ],
   "source": [
    "print(classification_report(y_test, y_pred, target_names=le.classes_))"
   ]
  },
  {
   "cell_type": "code",
   "execution_count": 15,
   "metadata": {
    "id": "lDDh5Ymr9b5o"
   },
   "outputs": [],
   "source": []
  }
 ],
 "metadata": {
  "colab": {
   "authorship_tag": "ABX9TyOED4JqBkzKTbQ0kI1xFejQ",
   "collapsed_sections": [],
   "include_colab_link": true,
   "name": "fake_citations.ipynb",
   "provenance": [],
   "toc_visible": true
  },
  "kernelspec": {
   "display_name": "Python 3",
   "language": "python",
   "name": "python3"
  },
  "language_info": {
   "codemirror_mode": {
    "name": "ipython",
    "version": 3
   },
   "file_extension": ".py",
   "mimetype": "text/x-python",
   "name": "python",
   "nbconvert_exporter": "python",
   "pygments_lexer": "ipython3",
   "version": "3.7.9"
  }
 },
 "nbformat": 4,
 "nbformat_minor": 4
}
